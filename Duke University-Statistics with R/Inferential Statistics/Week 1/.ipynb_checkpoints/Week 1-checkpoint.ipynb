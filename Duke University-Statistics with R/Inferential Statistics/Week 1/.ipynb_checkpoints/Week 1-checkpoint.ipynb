{
 "cells": [
  {
   "cell_type": "markdown",
   "metadata": {},
   "source": [
    "# Week 1\n",
    "\n",
    "1.Question 1\n",
    "Researchers studying anthropometry collected body girth measurements and skeletal diameter measurements, as well as age, weight, height and gender, for 507 physically active individuals. The histogram below shows the sample distribution of heights in centimeters, and the table shows sample statistics calculated based on this sample. Which of the following is not necessarily true?\n",
    "\n",
    "**Answers:The population mean is 171.1 cm.**\n",
    "\n",
    "2.Question 2\n",
    "Researchers studying anthropometry collected various body and skeletal measurements for 507 physically active individuals. The histogram below shows the sample distribution of heights in centimeters. If the 507 individuals are a simple random sample - and let’s assume they are - then the sample mean is a point estimate for the mean height of all active individuals. What measure do we use to quantify the variability of such an estimate? Compute this quantity using the data from this sample and choose the best answer below.\n",
    "\n",
    "**Answers:standard error = 0.417**\n",
    "\n",
    "3.Question 3\n",
    "The standard error measures:\n",
    "\n",
    "**Answers:the variability of sample statistics**\n",
    "\n",
    "4.Question 4\n",
    "Four plots are presented below. The plot at the top is a distribution for a population. The mean is 60 and the standard deviation is 18. Also shown below is a distribution of\n",
    "\n",
    "(1) a single random sample of 500 values from this population,\n",
    "\n",
    "(2) a distribution of 500 sample means from random samples of each size 18,\n",
    "\n",
    "(3) a distribution of 500 sample means from random samples of each size 81.\n",
    "\n",
    "Determine which plot (A, B, or C) is which.\n",
    "\n",
    "**Answers:(1) one sample, n = 500 - Plot B\n",
    "(2) 500 samples, n = 18 - Plot C\n",
    "(3) 500 samples, n = 81 - Plot A**\n",
    "\n",
    "\n",
    "5.Question 5\n",
    "The General Social Survey (GSS) is a sociological survey used to collect data on demographic characteristics and attitudes of residents of the United States. In 2010, the survey collected responses from over a thousand US residents. The survey is conducted face-to-face with an in-person interview of a randomly-selected sample of adults. One of the questions on the survey is “For how many days during the past 30 days was your mental health, which includes stress, depression, and problems with emotions, not good?”\n",
    "Based on responses from 1,151 US residents, the survey reported a 95% confidence interval of 3.40 to 4.24 days in 2010. Given this information, which of the following statements would be most appropriate to make regarding the true average number of days of “not good” mental health in 2010 for US residents?\n",
    "\n",
    "**Answers:For all US residents in 2010, based on this 95% confidence interval, we would reject a null hypothesis stating that the true average number of days of “not good” mental health is 5 days.**\n",
    "\n",
    "6.Question 6\n",
    "All but one of the following confidence intervals has a margin of error of 0.7. Which is the confidence interval with the different margin of error?\n",
    "\n",
    "**Answers:(1.6,4.4)**\n",
    "\n",
    "7.Question 7\n",
    "A company offering online speed reading courses claims that students who take their courses show a 5 times (500%) increase in the number of words they can read in a minute without losing comprehension. A random sample of 100 students yielded an average increase of 415% with a standard deviation of 220%.\n",
    "Calculate a 95% confidence interval for the average increase in number of words students can read in a minute without losing comprehension. Choose the closest answer.\n",
    "\n",
    "**Answers:(371.88, 458.12)**\n"
   ]
  }
 ],
 "metadata": {
  "kernelspec": {
   "display_name": "Python 3",
   "language": "python",
   "name": "python3"
  },
  "language_info": {
   "codemirror_mode": {
    "name": "ipython",
    "version": 3
   },
   "file_extension": ".py",
   "mimetype": "text/x-python",
   "name": "python",
   "nbconvert_exporter": "python",
   "pygments_lexer": "ipython3",
   "version": "3.7.3"
  }
 },
 "nbformat": 4,
 "nbformat_minor": 2
}
