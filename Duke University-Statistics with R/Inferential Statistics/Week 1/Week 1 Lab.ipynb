{
 "cells": [
  {
   "cell_type": "markdown",
   "metadata": {},
   "source": [
    "# Week 1 Lab\n",
    "\n",
    "1.Question 1\n",
    "Which of the following is false?\n",
    "\n",
    "**Answers:50% of houses in Ames are smaller than 1,499.69 square feet.**\n",
    "\n",
    "2.Question 2\n",
    "Suppose we took two more samples, one of size 100 and one of size 1000. Which would you think would provide a more accurate estimate of the population mean?\n",
    "\n",
    "**Answers:Sample size of 1000**\n",
    "\n",
    "3.Question 3\n",
    "How many elements are there in this object called sample_means_small?\n",
    "\n",
    "**Answers:25**\n",
    "\n",
    "4.Question 4\n",
    "Which of the following is true about the elements in the sampling distributions you created?\n",
    "\n",
    "**Answers:Each element represents a mean square footage from a simple random sample of 10 houses.**\n",
    "\n",
    "5.Question 5\n",
    "It makes intuitive sense that as the sample size increases, the center of the sampling distribution becomes a more reliable estimate for the true population mean. Also as the sample size increases, the variability of the sampling distribution ___________.\n",
    "\n",
    "**Answers:decreases**\n",
    "\n",
    "6.Question 6\n",
    "Which of the following is false?\n",
    "\n",
    "**Answers:The variability of the sampling distribution with the smaller sample size (sample_means50) is smaller than the variability of the sampling distribution with the larger sample size (sample_means150).**\n"
   ]
  },
  {
   "cell_type": "code",
   "execution_count": null,
   "metadata": {},
   "outputs": [],
   "source": []
  }
 ],
 "metadata": {
  "kernelspec": {
   "display_name": "Python 3",
   "language": "python",
   "name": "python3"
  },
  "language_info": {
   "codemirror_mode": {
    "name": "ipython",
    "version": 3
   },
   "file_extension": ".py",
   "mimetype": "text/x-python",
   "name": "python",
   "nbconvert_exporter": "python",
   "pygments_lexer": "ipython3",
   "version": "3.7.3"
  }
 },
 "nbformat": 4,
 "nbformat_minor": 2
}
