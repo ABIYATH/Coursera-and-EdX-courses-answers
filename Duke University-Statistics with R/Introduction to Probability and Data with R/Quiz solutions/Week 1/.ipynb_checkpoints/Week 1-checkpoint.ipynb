{
 "cells": [
  {
   "cell_type": "markdown",
   "metadata": {},
   "source": [
    "# Week 1\n",
    "\n",
    "1.Question 1\n",
    "Consider the table below describing a data set of individuals who have registered to volunteer at a public school. Which of the choices below lists categorical variables?\n",
    "\n",
    "**Answer:phone number and name**\n",
    "\n",
    "2.Question 2\n",
    "A study is designed to test the effect of type of light on exam performance of students. 180 students are randomly assigned to three classrooms: one that is dimly lit, another with yellow lighting, and a third with white fluorescent lighting, and given the same exam. Which of the following correctly identifies the variables used in the study as explanatory and response?\n",
    "\n",
    "**Answer: explanatory: type of light (categorical with 3 levels)\n",
    "response: exam performance**\n",
    "\n",
    "\n",
    "3.Question 3\n",
    "In a study published in 2011 in The Proceedings of the National Academy of Sciences, researchers randomly assigned 120 elderly men and women who volunteered to be a part of this study (average age mid-60s) to one of two exercise groups. One group walked around a track three times a week; the other did a variety of less aerobic exercises, including yoga and resistance training with bands. After a year, brain scans showed that among the walkers, the hippocampus (part of the brain responsible for forming memories) had increased in volume by about 2% on average; in the others, it had declined by about 1.4%. Which of the following is false?\n",
    "\n",
    "**Answer:The results of this study can be generalized to all elderly.**\n",
    "\n",
    "4.Question 4\n",
    "A school district is considering whether it will no longer allow students to park at school after two recent accidents where students were severely injured. As a first step, they survey parents of high school students by mail, asking them whether or not the parents would object to this policy change. Of 5,799 surveys that go out, 1,209 are returned. Of these 1,209 surveys that were completed, 926 agreed with the policy change and 283 disagreed. Which of the following statements is the most plausible?\n",
    "\n",
    "**Answer:It is possible that 80% of the parents of high school students disagree with the policy change.**\n",
    "\n",
    "5.Question 5\n",
    "For your political science class, you’d like to take a survey from a sample of all the Catholic Church members in your town. Your town is divided into 17 neighborhoods, each with similar socio-economic status distribution and ethnic diversity, and each contains a Catholic Church. Rather than trying to obtain a list of all members of all these churches, you decide to pick 3 churches at random. For these churches, you’ll ask to get a list of all current members and contact 100 members at random. What kind of design have you used?\n",
    "\n",
    "**Answer:stratified sampling**\n",
    "\n",
    "6.Question 6\n",
    "In an experiment, what purpose does blocking serve?\n",
    "\n",
    "**Answer:Control for variables that might influence the response.**\n",
    "\n",
    "7.Question 7\n",
    "Which of the following is one of the four principles of experimental design?\n",
    "\n",
    "**Answer:randomize**"
   ]
  },
  {
   "cell_type": "code",
   "execution_count": null,
   "metadata": {},
   "outputs": [],
   "source": []
  }
 ],
 "metadata": {
  "kernelspec": {
   "display_name": "Python 3",
   "language": "python",
   "name": "python3"
  },
  "language_info": {
   "codemirror_mode": {
    "name": "ipython",
    "version": 3
   },
   "file_extension": ".py",
   "mimetype": "text/x-python",
   "name": "python",
   "nbconvert_exporter": "python",
   "pygments_lexer": "ipython3",
   "version": "3.7.3"
  }
 },
 "nbformat": 4,
 "nbformat_minor": 2
}
