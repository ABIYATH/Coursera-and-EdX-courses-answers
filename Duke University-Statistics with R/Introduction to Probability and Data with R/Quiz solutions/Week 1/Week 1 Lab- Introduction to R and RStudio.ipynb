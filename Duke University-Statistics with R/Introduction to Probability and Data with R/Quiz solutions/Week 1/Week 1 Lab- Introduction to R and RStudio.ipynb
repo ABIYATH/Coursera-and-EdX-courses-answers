{
 "cells": [
  {
   "cell_type": "markdown",
   "metadata": {},
   "source": [
    "# Week 1 Lab: Introduction to R and RStudio\n",
    "\n",
    "1.Question 1\n",
    "How many variables are included in this data set (data set: arbuthnot)?\n",
    "\n",
    "**Answer:3**\n",
    "\n",
    "2.Question 2\n",
    "What command would you use to extract just the counts of girls born?\n",
    "\n",
    "**Answer:arbuthnot$girls**\n",
    "\n",
    "3.Question 3\n",
    "Which of the following best describes the number of girls baptised over the years included in this dataset?\n",
    "\n",
    "**Answer:There is initially an increase in the number of girls baptised, which peaks around 1640. After 1640 there is a decrease in the number of girls baptised, but the number begins to increase again in 1660. Overall the trend is an increase in the number of girls baptised.**\n",
    "\n",
    "4.Question 4\n",
    "How many variables are included in this data set (data set: present)?\n",
    "\n",
    "**Answer:3**\n",
    "\n",
    "5.Question 5\n",
    "Calculate the total number of births for each year and store these values in a new variable called total in the present dataset. Then, calculate the proportion of boys born each year and store these values in a new variable called prop_boys in the same dataset. Plot these values over time and based on the plot determine if the following statement is true or false: The proportion of boys born in the US has decreased over time.\n",
    "\n",
    "**Answer:True**\n",
    "\n",
    "6.Question 6\n",
    "Create a new variable called more_boys which contains the value of either TRUE if that year had more boys than girls, or FALSE if that year did not. Based on this variable which of the following statements is true?\n",
    "\n",
    "**Answer:Every year there are more boys born than girls.**\n",
    "\n",
    "7.Question 7\n",
    "Calculate the boy-to-girl ratio each year, and store these values in a new variable called prop_boy_girl in the present dataset. Plot these values over time. Which of the following best describes the trend?\n",
    "\n",
    "**Answer:There is initially a decrease in the boy-to-girl ratio, and then an increase between 1960 and 1970, followed by a decrease.**\n",
    "\n",
    "8.Question 8\n",
    "In what year did we see the most total number of births in the U.S.?\n",
    "\n",
    "**Answer:2007**\n"
   ]
  },
  {
   "cell_type": "code",
   "execution_count": null,
   "metadata": {},
   "outputs": [],
   "source": []
  }
 ],
 "metadata": {
  "kernelspec": {
   "display_name": "Python 3",
   "language": "python",
   "name": "python3"
  },
  "language_info": {
   "codemirror_mode": {
    "name": "ipython",
    "version": 3
   },
   "file_extension": ".py",
   "mimetype": "text/x-python",
   "name": "python",
   "nbconvert_exporter": "python",
   "pygments_lexer": "ipython3",
   "version": "3.7.3"
  }
 },
 "nbformat": 4,
 "nbformat_minor": 2
}
