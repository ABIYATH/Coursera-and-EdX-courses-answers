{
 "cells": [
  {
   "cell_type": "markdown",
   "metadata": {},
   "source": [
    "# Week 1 Lab\n",
    "\n",
    "1.Question 1\n",
    "Based on the preceding result, what is the probability that Machine 1 is “Bad” given you won playing on Machine 1?\n",
    "\n",
    "**Answer:0.4**\n",
    "\n",
    "2.Question 2\n",
    "Based on the preceding result, what is the probability that Machine 2 is “Good” given you won playing on Machine 1?\n",
    "\n",
    "**Answer:0.4**\n",
    "\n",
    "3.Question 3\n",
    "Under the Bayesian paradigm, which of the following correctly matches the probabilities with their names?\n",
    "\n",
    "**Answer:Posterior - P(M_1 \\text{ is Good} ~|~ \\text{Win on } M_1)P(M1 is Good ∣ Win on M1)\n",
    "Prior - P(M_1 \\text{ is Good})P(M1 is Good) Likelihood - P(\\text{Win on } M_1 ~|~ M_1 \\text{ is Good})P(Win on M1 ∣ M1 is Good)**\n",
    "\n",
    "4.Question 4\n",
    "Use the bandit_posterior function to calculate the posterior probabilities of Machine 1 and 2 being \"good\" after playing Machine 1 twice and winning both times, and then playing Machine 2 three times with 2 wins then 1 loss.\n",
    "\n",
    "**Answer:P(M1  is good ∣ data)=0.571, P(M_2\\text{ is good}~|~\\text{data}) = 0.429P(M2 is good ∣ data)=0.429**\n",
    "\n",
    "5.Question 5\n",
    "What would the posterior probabilities be if we had instead played Machine 2 first, playing three times with 2 wins and 1 loss, and then playing Machine 1 twice and winning both times?\n",
    "\n",
    "**Answer:P(M1  is good ∣ data)=0.571, P(M_2\\text{ is good}~|~\\text{data}) = 0.429P(M2 is good ∣ data)=0.429**\n",
    "\n",
    "6.Question 6\n",
    "From the plot generated in the example above, we can see that the posterior probabilities for Machine 1 and Machine 2 mirror each other. Why will this happen?\n",
    "\n",
    "**Answer:Both of the above**"
   ]
  }
 ],
 "metadata": {
  "kernelspec": {
   "display_name": "Python 3",
   "language": "python",
   "name": "python3"
  },
  "language_info": {
   "codemirror_mode": {
    "name": "ipython",
    "version": 3
   },
   "file_extension": ".py",
   "mimetype": "text/x-python",
   "name": "python",
   "nbconvert_exporter": "python",
   "pygments_lexer": "ipython3",
   "version": "3.7.3"
  }
 },
 "nbformat": 4,
 "nbformat_minor": 2
}
