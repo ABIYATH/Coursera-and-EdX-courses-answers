{
 "cells": [
  {
   "cell_type": "markdown",
   "metadata": {},
   "source": [
    "# Week 1 Quiz\n",
    "\n",
    "1.Of the four plots shown below, which one appears to show the weakest relationship between two variables?\n",
    "\n",
    "**Answer:(IV)**\n",
    "\n",
    "2.Question 2\n",
    "Suppose the correlation coefficient between an explanatory variable (the size of a person’s home, measured in square feet) and a response variable (the amount they spend on alcohol per year, measured in US Dollars) is 0.34. If we change the units used to measure their home size from square feet to square meters, which of the following will be true? Assume 1 square foot is roughly 0.09 square meters.\n",
    "\n",
    "**Answer:The new correlation coefficient should be the same: R = 0.34R=0.34.**\n",
    "\n",
    "3.Question 3\n",
    "Which of the following is false?\n",
    "\n",
    "**Answer:The variability of residuals should increase as x increases.**\n",
    "\n",
    "4.Question 4\n",
    "Sixteen student volunteers at Ohio State University drank a randomly assigned number beers. Thirty minutes later, a police officer measured their blood alcohol content (BAC) in grams of alcohol per deciliter of blood. The scatterplot displays the relationship between BAC and number of beers consumed. Suppose a mistake was found in the data: the student who supposedly drank the highest number of beers (9 beers) actually only drank 6. His BAC was recorded correctly. In a new scatterplot, how would the strength of the association appear - compared to the strength of the association shown here?\n",
    "\n",
    "**Answer:Weaker than the strength of the association shown in the above scatterplot.**\n",
    "\n",
    "5.Question 5\n",
    "The correlation between height and weight for a certain breed of plant is found to be 0.75. What percentage of the variability in plant weight is not explained by height?\n",
    "\n",
    "**Answer:1−(0.75)^2=0.4375 or 43.7543.75**\n",
    "\n",
    "6.Question 6\n",
    "A colleague needs some help with a statistics problem: He brings you the plot shown below, along with a correlation coefficient of 0.03 which he calculated himself. The plot shows two numerical variables which are obviously strongly related, and as a result your colleague is afraid he made a mistake calculating the correlation coefficient: that is, he was surprised to get an answer so close to 0. Given only this information, which of the following responses is the best to give your colleague?\n",
    "\n",
    "**Answer:The correlation coefficient measures the strength of the linear relationship, therefore two variables that have a strong non-linear association might still have a low correlation coefficient.**\n",
    "\n",
    "\n",
    "7.Question 7\n",
    "The linear model below is used for predicting poverty rate from high school graduation rate in the 51 states in the US (including DC).\n",
    "\n",
    "\\widehat{poverty} = 64.68 - 0.62~HS~grad~rate\n",
    "poverty\n",
    "​\t\n",
    " =64.68−0.62 HS grad rate\n",
    "\n",
    "High school graduation rate for North Carolina is 81.4% and the poverty rate is 13.1%. What is the residual for this observation? Choose the closest answer.\n",
    "\n",
    "A snippet of the data matrix is provided below, pay attention to the scale of the data in solving this question:\n",
    "\n",
    "**Answer:-1.1**\n",
    "\n",
    "8.Question 8\n",
    "Which of the following best describes SST (sum of squares total) in a regression?\n",
    "\n",
    "**Answer:Total variability in the response variable.**\n",
    "\n",
    "9.Question 9\n",
    "Based on a random sample of 170 married couples in Britain, a researcher finds that the relationship between the husbands’ and wives’ ages is described by the following equation: \n",
    "Which of the following is the best interpretation of the slope estimate?\n",
    "\n",
    "**Answer:For each additional year increase of husband’s age, we would expect the wife’s age to be 0.91 years higher, on average.**\n"
   ]
  }
 ],
 "metadata": {
  "kernelspec": {
   "display_name": "Python 3",
   "language": "python",
   "name": "python3"
  },
  "language_info": {
   "codemirror_mode": {
    "name": "ipython",
    "version": 3
   },
   "file_extension": ".py",
   "mimetype": "text/x-python",
   "name": "python",
   "nbconvert_exporter": "python",
   "pygments_lexer": "ipython3",
   "version": "3.7.3"
  }
 },
 "nbformat": 4,
 "nbformat_minor": 2
}
