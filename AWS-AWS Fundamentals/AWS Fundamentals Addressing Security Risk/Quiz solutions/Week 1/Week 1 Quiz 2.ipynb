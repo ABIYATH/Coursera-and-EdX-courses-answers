{
 "cells": [
  {
   "cell_type": "markdown",
   "metadata": {},
   "source": [
    "# Week 1 Quiz 2\n",
    "\n",
    "\n",
    "1.Question 1\n",
    "Which solution below grants AWS Management Console access to an DevOps engineer?\n",
    "\n",
    "**Answer:Create IAM user for the engineer and associate relevant IAM managed policies to this IAM user**\n",
    "\n",
    "\n",
    "\n",
    "2.Question 2\n",
    "Which of these IAM policies cannot be updated by you?\n",
    "\n",
    "**Answer:managed policy**\n",
    "\n",
    "3.Question 3\n",
    "Which of these services can establish a trusted relationship between your corporate Active Directory and AWS?\n",
    "\n",
    "**Answer:AD Connector**\n",
    "\n",
    "4.Question 4\n",
    "What is the main difference between Cognito User Pool and Cognito Identity Pool?\n",
    "\n",
    "**Answer:Identity Pools provide temporary AWS credentials**\n",
    "\n",
    "5.Question 5\n",
    "How do you audit IAM user’s access to your AWS accounts and resources?\n",
    "\n",
    "**Answer:Using CloudTrail to look at the API call and timestamp**\n"
   ]
  }
 ],
 "metadata": {
  "kernelspec": {
   "display_name": "Python 3",
   "language": "python",
   "name": "python3"
  },
  "language_info": {
   "codemirror_mode": {
    "name": "ipython",
    "version": 3
   },
   "file_extension": ".py",
   "mimetype": "text/x-python",
   "name": "python",
   "nbconvert_exporter": "python",
   "pygments_lexer": "ipython3",
   "version": "3.7.3"
  }
 },
 "nbformat": 4,
 "nbformat_minor": 2
}
