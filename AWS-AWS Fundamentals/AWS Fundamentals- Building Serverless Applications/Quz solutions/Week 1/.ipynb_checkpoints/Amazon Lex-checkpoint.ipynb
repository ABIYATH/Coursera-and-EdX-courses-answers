{
 "cells": [
  {
   "cell_type": "markdown",
   "metadata": {},
   "source": [
    "# Amazon Lex\n",
    "\n",
    "What is an \"intent\"?\n",
    "\n",
    "**Answer:A particular goal that the user wants to achieve.**\n",
    "\n",
    "2.Question 2\n",
    "What is a slot?\n",
    "\n",
    "**Answer:Data that the user must provide to fulfill the intent.**\n",
    "\n",
    "3.Question 3\n",
    "What service does Amazon Lex use for text-to-speech?\n",
    "\n",
    "**Answer:Amazon Poly**"
   ]
  }
 ],
 "metadata": {
  "kernelspec": {
   "display_name": "Python 3",
   "language": "python",
   "name": "python3"
  },
  "language_info": {
   "codemirror_mode": {
    "name": "ipython",
    "version": 3
   },
   "file_extension": ".py",
   "mimetype": "text/x-python",
   "name": "python",
   "nbconvert_exporter": "python",
   "pygments_lexer": "ipython3",
   "version": "3.7.3"
  }
 },
 "nbformat": 4,
 "nbformat_minor": 2
}
