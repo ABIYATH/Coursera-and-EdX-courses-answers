{
 "cells": [
  {
   "cell_type": "markdown",
   "metadata": {},
   "source": [
    "# Week 1 Quiz\n",
    "In which phase do you analyze the dependencies between your applications and begin to think about which migration type is most suitable for each dependency?\n",
    "\n",
    "**Answer:Phase 2: Portfolio Discovery and Planning**\n",
    "\n",
    "\n",
    "Correct\n",
    "2.Question 2\n",
    "What framework helps you build a comprehensive approach to a successful cloud computing migration across your organization, and throughout your IT lifecycle?\n",
    "\n",
    "**Answer:AWS Cloud Adoption Framework**\n",
    "\n",
    "3.Question 3\n",
    "Which migration strategy is commonly referred to as “lift and shift”, where you’re trying to move your applications or environments into the cloud while trying to make as few changes as possible?\n",
    "\n",
    "**Answer:Rehost**\n",
    "\n",
    "4.Question 4\n",
    "In which migration strategy are you typically driven by strong business needs to add features, scale, or increase performance that would otherwise be difficult in an existing environment?\n",
    "\n",
    "**Answer:Retain**\n",
    "\n",
    "\n",
    "5.Question 5\n",
    "Which type of scaling gives you the ability to add more servers in order to distribute load across resources and maintain operations without overloading any singular resource?\n",
    "\n",
    "**Answer:Horizontal scaling**"
   ]
  },
  {
   "cell_type": "code",
   "execution_count": null,
   "metadata": {},
   "outputs": [],
   "source": []
  }
 ],
 "metadata": {
  "kernelspec": {
   "display_name": "Python 3",
   "language": "python",
   "name": "python3"
  },
  "language_info": {
   "codemirror_mode": {
    "name": "ipython",
    "version": 3
   },
   "file_extension": ".py",
   "mimetype": "text/x-python",
   "name": "python",
   "nbconvert_exporter": "python",
   "pygments_lexer": "ipython3",
   "version": "3.7.3"
  }
 },
 "nbformat": 4,
 "nbformat_minor": 2
}
