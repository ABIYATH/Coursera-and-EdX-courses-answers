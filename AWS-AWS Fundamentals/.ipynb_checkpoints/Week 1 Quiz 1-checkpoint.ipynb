{
 "cells": [
  {
   "cell_type": "markdown",
   "metadata": {},
   "source": [
    "# Week 1 Quiz 1\n",
    "\n",
    "1.Question 1\n",
    "What security mechanism can add an extra layer of protection to your AWS account in addition to a username password combination?\n",
    "\n",
    "What security mechanism can add an extra layer of protection to your AWS account in addition to a username password combination?\n",
    "\n",
    "**Answer: Mult-factor Authentication or MFA**\n",
    "\n",
    "2.Question 2\n",
    "If a user wanted to read from a DynamoDB table what policy would you attach to their user profile?\n",
    "\n",
    "\n",
    "**Answer: AmazonDynamoDBReadOnlyAccess**\n",
    "\n",
    "\n",
    "3.Question 3\n",
    "What are valid MFA or Multi-factor Authentication options available to use on AWS? Select all that apply.\n",
    "\n",
    "**Answer:**\n",
    "* Gemalto token\n",
    "* yubiKey\n",
    "* Google Authenticator\n",
    "\n",
    "\n",
    "4.Question 4\n",
    "What format is an Identity and Access Management policy document in?\n",
    "\n",
    "**Answer:JSON**\n",
    "\n",
    "\n",
    "5.Question 5\n",
    "Which are valid options for interacting with your AWS account? Select all that apply.\n",
    "\n",
    "**Answer:**\n",
    "* Command Line Interface\n",
    "* Software Development Kit\n",
    "* Application Programming Interface\n",
    "* AWS Console"
   ]
  }
 ],
 "metadata": {
  "kernelspec": {
   "display_name": "Python 3",
   "language": "python",
   "name": "python3"
  },
  "language_info": {
   "codemirror_mode": {
    "name": "ipython",
    "version": 3
   },
   "file_extension": ".py",
   "mimetype": "text/x-python",
   "name": "python",
   "nbconvert_exporter": "python",
   "pygments_lexer": "ipython3",
   "version": "3.7.3"
  },
  "widgets": {
   "application/vnd.jupyter.widget-state+json": {
    "state": {},
    "version_major": 2,
    "version_minor": 0
   }
  }
 },
 "nbformat": 4,
 "nbformat_minor": 2
}
